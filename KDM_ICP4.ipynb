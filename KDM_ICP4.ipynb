{
  "nbformat": 4,
  "nbformat_minor": 0,
  "metadata": {
    "colab": {
      "name": "KDM_ICP4.ipynb",
      "provenance": [],
      "authorship_tag": "ABX9TyMgAPpJAeXrkZ94FwWYPp/M",
      "include_colab_link": true
    },
    "kernelspec": {
      "name": "python3",
      "display_name": "Python 3"
    }
  },
  "cells": [
    {
      "cell_type": "markdown",
      "metadata": {
        "id": "view-in-github",
        "colab_type": "text"
      },
      "source": [
        "<a href=\"https://colab.research.google.com/github/Nithin46/KDM_ICP4/blob/main/KDM_ICP4.ipynb\" target=\"_parent\"><img src=\"https://colab.research.google.com/assets/colab-badge.svg\" alt=\"Open In Colab\"/></a>"
      ]
    },
    {
      "cell_type": "markdown",
      "metadata": {
        "id": "ZQwkCPcSgfe8"
      },
      "source": [
        "**1 ->` Setting up PySpark in Colab**\r\n",
        "\r\n",
        "Spark is written in the Scala programming language and requires the Java Virtual Machine (JVM) to run. Therefore, I'm downloading Java in the first step\r\n",
        "\r\n"
      ]
    },
    {
      "cell_type": "code",
      "metadata": {
        "colab": {
          "base_uri": "https://localhost:8080/"
        },
        "id": "QbsYSMY8gxDA",
        "outputId": "d25aa0fb-b3b4-4033-b858-8c569f8fb052"
      },
      "source": [
        "!sudo apt-get update\r\n",
        "!apt-get install openjdk-8-jdk-headless -qq > /dev/null"
      ],
      "execution_count": 3,
      "outputs": [
        {
          "output_type": "stream",
          "text": [
            "\r0% [Working]\r            \rHit:1 http://archive.ubuntu.com/ubuntu bionic InRelease\n",
            "\r0% [Connecting to security.ubuntu.com (91.189.91.39)] [Connected to cloud.r-pro\r                                                                               \rGet:2 http://archive.ubuntu.com/ubuntu bionic-updates InRelease [88.7 kB]\n",
            "\r                                                                               \rGet:3 http://ppa.launchpad.net/c2d4u.team/c2d4u4.0+/ubuntu bionic InRelease [15.9 kB]\n",
            "\r                                                                               \rHit:4 http://ppa.launchpad.net/cran/libgit2/ubuntu bionic InRelease\n",
            "\r0% [2 InRelease 75.0 kB/88.7 kB 85%] [Connecting to security.ubuntu.com (91.189\r0% [1 InRelease gpgv 242 kB] [2 InRelease 83.7 kB/88.7 kB 94%] [Connecting to s\r0% [1 InRelease gpgv 242 kB] [Waiting for headers] [Connecting to security.ubun\r                                                                               \rGet:5 http://archive.ubuntu.com/ubuntu bionic-backports InRelease [74.6 kB]\n",
            "\r0% [1 InRelease gpgv 242 kB] [5 InRelease 17.1 kB/74.6 kB 23%] [Connecting to s\r                                                                               \rHit:6 http://ppa.launchpad.net/graphics-drivers/ppa/ubuntu bionic InRelease\n",
            "Get:7 https://cloud.r-project.org/bin/linux/ubuntu bionic-cran40/ InRelease [3,626 B]\n",
            "Get:8 http://security.ubuntu.com/ubuntu bionic-security InRelease [88.7 kB]\n",
            "Ign:9 https://developer.download.nvidia.com/compute/cuda/repos/ubuntu1804/x86_64  InRelease\n",
            "Ign:10 https://developer.download.nvidia.com/compute/machine-learning/repos/ubuntu1804/x86_64  InRelease\n",
            "Hit:11 https://developer.download.nvidia.com/compute/cuda/repos/ubuntu1804/x86_64  Release\n",
            "Hit:12 https://developer.download.nvidia.com/compute/machine-learning/repos/ubuntu1804/x86_64  Release\n",
            "Get:13 http://ppa.launchpad.net/c2d4u.team/c2d4u4.0+/ubuntu bionic/main Sources [1,732 kB]\n",
            "Get:14 http://ppa.launchpad.net/c2d4u.team/c2d4u4.0+/ubuntu bionic/main amd64 Packages [886 kB]\n",
            "Get:15 http://archive.ubuntu.com/ubuntu bionic-updates/main amd64 Packages [2,360 kB]\n",
            "Get:16 http://archive.ubuntu.com/ubuntu bionic-updates/universe amd64 Packages [2,162 kB]\n",
            "Get:17 https://cloud.r-project.org/bin/linux/ubuntu bionic-cran40/ Packages [45.4 kB]\n",
            "Get:18 http://security.ubuntu.com/ubuntu bionic-security/universe amd64 Packages [1,391 kB]\n",
            "Get:21 http://security.ubuntu.com/ubuntu bionic-security/main amd64 Packages [1,929 kB]\n",
            "Fetched 10.8 MB in 2s (5,221 kB/s)\n",
            "Reading package lists... Done\n"
          ],
          "name": "stdout"
        }
      ]
    },
    {
      "cell_type": "markdown",
      "metadata": {
        "id": "hUWEIXRk-di9"
      },
      "source": [
        "2.a -> Next, I'm installing Apache Spark 3.0.1 with Hadoop 2.7"
      ]
    },
    {
      "cell_type": "code",
      "metadata": {
        "id": "TtgEwR1I-lRf"
      },
      "source": [
        "!wget -q https://www-us.apache.org/dist/spark/spark-3.0.1/spark-3.0.1-bin-hadoop2.7.tgz"
      ],
      "execution_count": 4,
      "outputs": []
    },
    {
      "cell_type": "markdown",
      "metadata": {
        "id": "HTwcyi5C-6zC"
      },
      "source": [
        "2.b -> Now, unzip that folder that we just downloaded."
      ]
    },
    {
      "cell_type": "code",
      "metadata": {
        "id": "tz7rUkAA_Tds"
      },
      "source": [
        "!tar xf spark-3.0.1-bin-hadoop2.7.tgz"
      ],
      "execution_count": 5,
      "outputs": []
    },
    {
      "cell_type": "markdown",
      "metadata": {
        "id": "tyounjzL_gZM"
      },
      "source": [
        "3 -> Installing the findspark library. It will locate Spark on the system and import it as a regular library."
      ]
    },
    {
      "cell_type": "code",
      "metadata": {
        "id": "wHrftTqOANSY"
      },
      "source": [
        "!pip install -q findspark"
      ],
      "execution_count": 6,
      "outputs": []
    },
    {
      "cell_type": "markdown",
      "metadata": {
        "id": "gegrnxibAziE"
      },
      "source": [
        "4 -> We have done with all the Installations part. Now, I'm setting the environmenta path. This will enable us to run Pyspark in the Colab environment."
      ]
    },
    {
      "cell_type": "code",
      "metadata": {
        "id": "ia9M8WtsBKRi"
      },
      "source": [
        "import os\r\n",
        "os.environ[\"JAVA_HOME\"] = \"/usr/lib/jvm/java-8-openjdk-amd64\"\r\n",
        "os.environ[\"SPARK_HOME\"] = \"/content/spark-3.0.1-bin-hadoop2.7\""
      ],
      "execution_count": 7,
      "outputs": []
    },
    {
      "cell_type": "markdown",
      "metadata": {
        "id": "oE4Hf5iIBV75"
      },
      "source": [
        "5 -> We need to locate Spark in the system."
      ]
    },
    {
      "cell_type": "code",
      "metadata": {
        "colab": {
          "base_uri": "https://localhost:8080/",
          "height": 35
        },
        "id": "-EeqIZTgBniU",
        "outputId": "489cc638-5ab2-4c73-ea61-6089156680d4"
      },
      "source": [
        "import findspark\r\n",
        "findspark.init() \r\n",
        "findspark.find()  # This will provide the location where Spark is installed"
      ],
      "execution_count": 8,
      "outputs": [
        {
          "output_type": "execute_result",
          "data": {
            "application/vnd.google.colaboratory.intrinsic+json": {
              "type": "string"
            },
            "text/plain": [
              "'/content/spark-3.0.1-bin-hadoop2.7'"
            ]
          },
          "metadata": {
            "tags": []
          },
          "execution_count": 8
        }
      ]
    },
    {
      "cell_type": "markdown",
      "metadata": {
        "id": "rgiAGa0VCXdg"
      },
      "source": [
        "Now, I'm importing the SparkSession from pyspark.sql and creating a SparkSession, which is the entry point to Spark.\r\n",
        "\r\n",
        "We can assign the name to session using appName"
      ]
    },
    {
      "cell_type": "code",
      "metadata": {
        "id": "thu-12V5ChSw"
      },
      "source": [
        "from pyspark.sql import SparkSession\r\n",
        "from pyspark.conf import SparkConf\r\n",
        "\r\n",
        "spark  = SparkSession.builder\\\r\n",
        "                  .master(\"local\")\\\r\n",
        "                  .appName(\"KDM\")\\\r\n",
        "                  .config('spark.ui.port', '4050')\\\r\n",
        "                  .getOrCreate()"
      ],
      "execution_count": 9,
      "outputs": []
    },
    {
      "cell_type": "code",
      "metadata": {
        "colab": {
          "base_uri": "https://localhost:8080/",
          "height": 216
        },
        "id": "HQzo3XGoIxBX",
        "outputId": "01407f82-376d-42b7-9927-32d23b3f6a9c"
      },
      "source": [
        "spark  # printing the SparkSession variable."
      ],
      "execution_count": 10,
      "outputs": [
        {
          "output_type": "execute_result",
          "data": {
            "text/html": [
              "\n",
              "            <div>\n",
              "                <p><b>SparkSession - in-memory</b></p>\n",
              "                \n",
              "        <div>\n",
              "            <p><b>SparkContext</b></p>\n",
              "\n",
              "            <p><a href=\"http://7c8c6670400f:4050\">Spark UI</a></p>\n",
              "\n",
              "            <dl>\n",
              "              <dt>Version</dt>\n",
              "                <dd><code>v3.0.1</code></dd>\n",
              "              <dt>Master</dt>\n",
              "                <dd><code>local</code></dd>\n",
              "              <dt>AppName</dt>\n",
              "                <dd><code>KDM</code></dd>\n",
              "            </dl>\n",
              "        </div>\n",
              "        \n",
              "            </div>\n",
              "        "
            ],
            "text/plain": [
              "<pyspark.sql.session.SparkSession at 0x7f5ada556a20>"
            ]
          },
          "metadata": {
            "tags": []
          },
          "execution_count": 10
        }
      ]
    },
    {
      "cell_type": "markdown",
      "metadata": {
        "id": "v_YEaTGkzwNQ"
      },
      "source": [
        "Now, load the dataset. For that I'm using the **.csv** module.\r\n",
        "\r\n",
        "And passing the inferSchema parameter = true; it will enable the Spark to automatically determine the data type for each column but it has to go over the data once. This is optional parameter. If we didn't set inderShema to True, then are the tokens are considered as **string.**"
      ]
    },
    {
      "cell_type": "code",
      "metadata": {
        "colab": {
          "base_uri": "https://localhost:8080/"
        },
        "id": "wKCxU0GE0gNS",
        "outputId": "7757d5ea-36f1-4aef-a7e9-9e101613fc51"
      },
      "source": [
        "data = spark.read.csv(\"/content/data.csv\", header=True, inferSchema= True)\r\n",
        "data.printSchema()"
      ],
      "execution_count": 11,
      "outputs": [
        {
          "output_type": "stream",
          "text": [
            "root\n",
            " |-- customerID: string (nullable = true)\n",
            " |-- gender: string (nullable = true)\n",
            " |-- SeniorCitizen: integer (nullable = true)\n",
            " |-- Partner: string (nullable = true)\n",
            " |-- Dependents: string (nullable = true)\n",
            " |-- tenure: integer (nullable = true)\n",
            " |-- PhoneService: string (nullable = true)\n",
            " |-- MultipleLines: string (nullable = true)\n",
            " |-- InternetService: string (nullable = true)\n",
            " |-- OnlineSecurity: string (nullable = true)\n",
            " |-- OnlineBackup: string (nullable = true)\n",
            " |-- DeviceProtection: string (nullable = true)\n",
            " |-- TechSupport: string (nullable = true)\n",
            " |-- StreamingTV: string (nullable = true)\n",
            " |-- StreamingMovies: string (nullable = true)\n",
            " |-- Contract: string (nullable = true)\n",
            " |-- PaperlessBilling: string (nullable = true)\n",
            " |-- PaymentMethod: string (nullable = true)\n",
            " |-- MonthlyCharges: double (nullable = true)\n",
            " |-- TotalCharges: string (nullable = true)\n",
            " |-- Churn: string (nullable = true)\n",
            "\n"
          ],
          "name": "stdout"
        }
      ]
    },
    {
      "cell_type": "markdown",
      "metadata": {
        "id": "3Imc1JB83LQG"
      },
      "source": [
        "**Performing Actions on the data**"
      ]
    },
    {
      "cell_type": "markdown",
      "metadata": {
        "id": "A6Us7Fe9EvBQ"
      },
      "source": [
        "**Operation 1: Printing all the Column names**"
      ]
    },
    {
      "cell_type": "code",
      "metadata": {
        "colab": {
          "base_uri": "https://localhost:8080/"
        },
        "id": "CzPe6nmC3hMs",
        "outputId": "6929e8d8-f5a5-4379-8c53-e4754734e023"
      },
      "source": [
        "data.columns #This will print all the column names present in the input file."
      ],
      "execution_count": 66,
      "outputs": [
        {
          "output_type": "execute_result",
          "data": {
            "text/plain": [
              "['customerID',\n",
              " 'gender',\n",
              " 'SeniorCitizen',\n",
              " 'Partner',\n",
              " 'Dependents',\n",
              " 'tenure',\n",
              " 'PhoneService',\n",
              " 'MultipleLines',\n",
              " 'InternetService',\n",
              " 'OnlineSecurity',\n",
              " 'OnlineBackup',\n",
              " 'DeviceProtection',\n",
              " 'TechSupport',\n",
              " 'StreamingTV',\n",
              " 'StreamingMovies',\n",
              " 'Contract',\n",
              " 'PaperlessBilling',\n",
              " 'PaymentMethod',\n",
              " 'MonthlyCharges',\n",
              " 'TotalCharges',\n",
              " 'Churn']"
            ]
          },
          "metadata": {
            "tags": []
          },
          "execution_count": 66
        }
      ]
    },
    {
      "cell_type": "markdown",
      "metadata": {
        "id": "HJTSXx4UBOYU"
      },
      "source": [
        "**Operation 2: Printing only the 'n' number of rows using limit function**"
      ]
    },
    {
      "cell_type": "code",
      "metadata": {
        "colab": {
          "base_uri": "https://localhost:8080/"
        },
        "id": "5cjTCe8u_IK8",
        "outputId": "54e1894b-7e50-4aa5-8969-8dd4e37a0204"
      },
      "source": [
        "data.limit(3).collect()  # Limits the result count to the number specified."
      ],
      "execution_count": 50,
      "outputs": [
        {
          "output_type": "execute_result",
          "data": {
            "text/plain": [
              "[Row(customerID='7590-VHVEG', gender='Female', SeniorCitizen=0, Partner='Yes', Dependents='No', tenure=1, PhoneService='No', MultipleLines='No phone service', InternetService='DSL', OnlineSecurity='No', OnlineBackup='Yes', DeviceProtection='No', TechSupport='No', StreamingTV='No', StreamingMovies='No', Contract='Month-to-month', PaperlessBilling='Yes', PaymentMethod='Electronic check', MonthlyCharges=29.85, TotalCharges='29.85', Churn='No'),\n",
              " Row(customerID='5575-GNVDE', gender='Male', SeniorCitizen=0, Partner='No', Dependents='No', tenure=34, PhoneService='Yes', MultipleLines='No', InternetService='DSL', OnlineSecurity='Yes', OnlineBackup='No', DeviceProtection='Yes', TechSupport='No', StreamingTV='No', StreamingMovies='No', Contract='One year', PaperlessBilling='No', PaymentMethod='Mailed check', MonthlyCharges=56.95, TotalCharges='1889.5', Churn='No'),\n",
              " Row(customerID='3668-QPYBK', gender='Male', SeniorCitizen=0, Partner='No', Dependents='No', tenure=2, PhoneService='Yes', MultipleLines='No', InternetService='DSL', OnlineSecurity='Yes', OnlineBackup='Yes', DeviceProtection='No', TechSupport='No', StreamingTV='No', StreamingMovies='No', Contract='Month-to-month', PaperlessBilling='Yes', PaymentMethod='Mailed check', MonthlyCharges=53.85, TotalCharges='108.15', Churn='Yes')]"
            ]
          },
          "metadata": {
            "tags": []
          },
          "execution_count": 50
        }
      ]
    },
    {
      "cell_type": "markdown",
      "metadata": {
        "id": "yEMNsS6NEMr8"
      },
      "source": [
        "**Operation 3: Filter the rows using the given condition.**"
      ]
    },
    {
      "cell_type": "code",
      "metadata": {
        "colab": {
          "base_uri": "https://localhost:8080/"
        },
        "id": "3LWcA2HoCi0e",
        "outputId": "915c0fdf-c5aa-4286-e078-ed73048da7e5"
      },
      "source": [
        "data.where(data.tenure == 34).collect() # It will print all the rows where tenure is equal to 34"
      ],
      "execution_count": 65,
      "outputs": [
        {
          "output_type": "execute_result",
          "data": {
            "text/plain": [
              "[Row(customerID='5575-GNVDE', gender='Male', SeniorCitizen=0, Partner='No', Dependents='No', tenure=34, PhoneService='Yes', MultipleLines='No', InternetService='DSL', OnlineSecurity='Yes', OnlineBackup='No', DeviceProtection='Yes', TechSupport='No', StreamingTV='No', StreamingMovies='No', Contract='One year', PaperlessBilling='No', PaymentMethod='Mailed check', MonthlyCharges=56.95, TotalCharges='1889.5', Churn='No'),\n",
              " Row(customerID='5380-WJKOV', gender='Male', SeniorCitizen=0, Partner='No', Dependents='No', tenure=34, PhoneService='Yes', MultipleLines='Yes', InternetService='Fiber optic', OnlineSecurity='No', OnlineBackup='Yes', DeviceProtection='Yes', TechSupport='No', StreamingTV='Yes', StreamingMovies='Yes', Contract='Month-to-month', PaperlessBilling='Yes', PaymentMethod='Electronic check', MonthlyCharges=106.35, TotalCharges='3549.25', Churn='Yes'),\n",
              " Row(customerID='3957-SQXML', gender='Female', SeniorCitizen=0, Partner='Yes', Dependents='Yes', tenure=34, PhoneService='Yes', MultipleLines='Yes', InternetService='No', OnlineSecurity='No internet service', OnlineBackup='No internet service', DeviceProtection='No internet service', TechSupport='No internet service', StreamingTV='No internet service', StreamingMovies='No internet service', Contract='Two year', PaperlessBilling='No', PaymentMethod='Credit card (automatic)', MonthlyCharges=24.95, TotalCharges='894.3', Churn='No'),\n",
              " Row(customerID='1744-JHKYS', gender='Female', SeniorCitizen=0, Partner='Yes', Dependents='No', tenure=34, PhoneService='Yes', MultipleLines='Yes', InternetService='No', OnlineSecurity='No internet service', OnlineBackup='No internet service', DeviceProtection='No internet service', TechSupport='No internet service', StreamingTV='No internet service', StreamingMovies='No internet service', Contract='Month-to-month', PaperlessBilling='No', PaymentMethod='Electronic check', MonthlyCharges=24.7, TotalCharges='780.2', Churn='No'),\n",
              " Row(customerID='6599-CEBNN', gender='Female', SeniorCitizen=0, Partner='No', Dependents='No', tenure=34, PhoneService='Yes', MultipleLines='No', InternetService='Fiber optic', OnlineSecurity='No', OnlineBackup='Yes', DeviceProtection='No', TechSupport='No', StreamingTV='No', StreamingMovies='No', Contract='Month-to-month', PaperlessBilling='Yes', PaymentMethod='Credit card (automatic)', MonthlyCharges=73.95, TotalCharges='2524.45', Churn='Yes'),\n",
              " Row(customerID='4374-YMUSQ', gender='Male', SeniorCitizen=0, Partner='No', Dependents='No', tenure=34, PhoneService='Yes', MultipleLines='Yes', InternetService='Fiber optic', OnlineSecurity='Yes', OnlineBackup='Yes', DeviceProtection='Yes', TechSupport='Yes', StreamingTV='Yes', StreamingMovies='Yes', Contract='One year', PaperlessBilling='No', PaymentMethod='Credit card (automatic)', MonthlyCharges=116.25, TotalCharges='3899.05', Churn='No'),\n",
              " Row(customerID='8397-MVTAZ', gender='Male', SeniorCitizen=0, Partner='Yes', Dependents='No', tenure=34, PhoneService='Yes', MultipleLines='Yes', InternetService='Fiber optic', OnlineSecurity='No', OnlineBackup='No', DeviceProtection='Yes', TechSupport='No', StreamingTV='Yes', StreamingMovies='Yes', Contract='Month-to-month', PaperlessBilling='Yes', PaymentMethod='Electronic check', MonthlyCharges=100.05, TotalCharges='3480', Churn='Yes'),\n",
              " Row(customerID='7129-AZJDE', gender='Male', SeniorCitizen=0, Partner='Yes', Dependents='Yes', tenure=34, PhoneService='Yes', MultipleLines='No', InternetService='Fiber optic', OnlineSecurity='No', OnlineBackup='No', DeviceProtection='No', TechSupport='No', StreamingTV='No', StreamingMovies='Yes', Contract='One year', PaperlessBilling='Yes', PaymentMethod='Bank transfer (automatic)', MonthlyCharges=78.95, TotalCharges='2647.2', Churn='No'),\n",
              " Row(customerID='2202-OUTMO', gender='Female', SeniorCitizen=0, Partner='Yes', Dependents='No', tenure=34, PhoneService='Yes', MultipleLines='Yes', InternetService='DSL', OnlineSecurity='Yes', OnlineBackup='No', DeviceProtection='No', TechSupport='Yes', StreamingTV='No', StreamingMovies='No', Contract='Month-to-month', PaperlessBilling='Yes', PaymentMethod='Bank transfer (automatic)', MonthlyCharges=60.85, TotalCharges='2003.6', Churn='No'),\n",
              " Row(customerID='9871-ELEYA', gender='Female', SeniorCitizen=0, Partner='No', Dependents='Yes', tenure=34, PhoneService='Yes', MultipleLines='No', InternetService='DSL', OnlineSecurity='Yes', OnlineBackup='No', DeviceProtection='Yes', TechSupport='Yes', StreamingTV='Yes', StreamingMovies='No', Contract='Two year', PaperlessBilling='No', PaymentMethod='Credit card (automatic)', MonthlyCharges=67.65, TotalCharges='2339.3', Churn='No'),\n",
              " Row(customerID='3551-GAEGL', gender='Male', SeniorCitizen=0, Partner='Yes', Dependents='Yes', tenure=34, PhoneService='No', MultipleLines='No phone service', InternetService='DSL', OnlineSecurity='Yes', OnlineBackup='No', DeviceProtection='No', TechSupport='No', StreamingTV='No', StreamingMovies='No', Contract='One year', PaperlessBilling='No', PaymentMethod='Bank transfer (automatic)', MonthlyCharges=30.4, TotalCharges='938.65', Churn='No'),\n",
              " Row(customerID='5337-IIWKZ', gender='Male', SeniorCitizen=0, Partner='Yes', Dependents='Yes', tenure=34, PhoneService='No', MultipleLines='No phone service', InternetService='DSL', OnlineSecurity='No', OnlineBackup='No', DeviceProtection='Yes', TechSupport='Yes', StreamingTV='Yes', StreamingMovies='No', Contract='Month-to-month', PaperlessBilling='Yes', PaymentMethod='Electronic check', MonthlyCharges=44.85, TotalCharges='1442.6', Churn='No'),\n",
              " Row(customerID='3280-NMUVX', gender='Male', SeniorCitizen=0, Partner='Yes', Dependents='Yes', tenure=34, PhoneService='Yes', MultipleLines='No', InternetService='No', OnlineSecurity='No internet service', OnlineBackup='No internet service', DeviceProtection='No internet service', TechSupport='No internet service', StreamingTV='No internet service', StreamingMovies='No internet service', Contract='One year', PaperlessBilling='No', PaymentMethod='Credit card (automatic)', MonthlyCharges=19.6, TotalCharges='678.8', Churn='No'),\n",
              " Row(customerID='6641-XRPSU', gender='Female', SeniorCitizen=0, Partner='No', Dependents='No', tenure=34, PhoneService='Yes', MultipleLines='No', InternetService='Fiber optic', OnlineSecurity='No', OnlineBackup='No', DeviceProtection='No', TechSupport='No', StreamingTV='No', StreamingMovies='No', Contract='Month-to-month', PaperlessBilling='Yes', PaymentMethod='Credit card (automatic)', MonthlyCharges=70.0, TotalCharges='2416.1', Churn='Yes'),\n",
              " Row(customerID='1730-VFMWO', gender='Female', SeniorCitizen=0, Partner='Yes', Dependents='No', tenure=34, PhoneService='Yes', MultipleLines='No', InternetService='DSL', OnlineSecurity='No', OnlineBackup='No', DeviceProtection='No', TechSupport='Yes', StreamingTV='No', StreamingMovies='No', Contract='Month-to-month', PaperlessBilling='No', PaymentMethod='Bank transfer (automatic)', MonthlyCharges=50.2, TotalCharges='1815.3', Churn='No'),\n",
              " Row(customerID='1689-MRZQR', gender='Male', SeniorCitizen=0, Partner='Yes', Dependents='Yes', tenure=34, PhoneService='Yes', MultipleLines='No', InternetService='Fiber optic', OnlineSecurity='No', OnlineBackup='No', DeviceProtection='No', TechSupport='No', StreamingTV='Yes', StreamingMovies='No', Contract='Month-to-month', PaperlessBilling='No', PaymentMethod='Electronic check', MonthlyCharges=78.3, TotalCharges='2564.3', Churn='Yes'),\n",
              " Row(customerID='6393-WRYZE', gender='Female', SeniorCitizen=0, Partner='Yes', Dependents='No', tenure=34, PhoneService='Yes', MultipleLines='Yes', InternetService='Fiber optic', OnlineSecurity='No', OnlineBackup='No', DeviceProtection='No', TechSupport='No', StreamingTV='Yes', StreamingMovies='Yes', Contract='Month-to-month', PaperlessBilling='Yes', PaymentMethod='Electronic check', MonthlyCharges=97.65, TotalCharges='3207.55', Churn='Yes'),\n",
              " Row(customerID='8621-MNIHH', gender='Female', SeniorCitizen=1, Partner='Yes', Dependents='No', tenure=34, PhoneService='Yes', MultipleLines='Yes', InternetService='Fiber optic', OnlineSecurity='No', OnlineBackup='Yes', DeviceProtection='Yes', TechSupport='No', StreamingTV='No', StreamingMovies='Yes', Contract='Month-to-month', PaperlessBilling='Yes', PaymentMethod='Electronic check', MonthlyCharges=94.25, TotalCharges='3217.55', Churn='Yes'),\n",
              " Row(customerID='3374-PZLXD', gender='Male', SeniorCitizen=0, Partner='No', Dependents='No', tenure=34, PhoneService='Yes', MultipleLines='No', InternetService='No', OnlineSecurity='No internet service', OnlineBackup='No internet service', DeviceProtection='No internet service', TechSupport='No internet service', StreamingTV='No internet service', StreamingMovies='No internet service', Contract='Month-to-month', PaperlessBilling='No', PaymentMethod='Mailed check', MonthlyCharges=19.7, TotalCharges='675.6', Churn='No'),\n",
              " Row(customerID='3331-HQDTW', gender='Female', SeniorCitizen=0, Partner='No', Dependents='No', tenure=34, PhoneService='Yes', MultipleLines='Yes', InternetService='Fiber optic', OnlineSecurity='Yes', OnlineBackup='Yes', DeviceProtection='Yes', TechSupport='No', StreamingTV='Yes', StreamingMovies='Yes', Contract='Month-to-month', PaperlessBilling='Yes', PaymentMethod='Mailed check', MonthlyCharges=109.8, TotalCharges='3587.25', Churn='Yes'),\n",
              " Row(customerID='6016-LVTJQ', gender='Female', SeniorCitizen=0, Partner='Yes', Dependents='Yes', tenure=34, PhoneService='Yes', MultipleLines='No', InternetService='No', OnlineSecurity='No internet service', OnlineBackup='No internet service', DeviceProtection='No internet service', TechSupport='No internet service', StreamingTV='No internet service', StreamingMovies='No internet service', Contract='Month-to-month', PaperlessBilling='No', PaymentMethod='Mailed check', MonthlyCharges=20.65, TotalCharges='716.4', Churn='No'),\n",
              " Row(customerID='5153-RTHKF', gender='Female', SeniorCitizen=0, Partner='No', Dependents='No', tenure=34, PhoneService='Yes', MultipleLines='Yes', InternetService='Fiber optic', OnlineSecurity='No', OnlineBackup='No', DeviceProtection='No', TechSupport='No', StreamingTV='Yes', StreamingMovies='No', Contract='Month-to-month', PaperlessBilling='No', PaymentMethod='Electronic check', MonthlyCharges=85.35, TotalCharges='2896.6', Churn='No'),\n",
              " Row(customerID='3521-HTQTV', gender='Male', SeniorCitizen=0, Partner='No', Dependents='No', tenure=34, PhoneService='Yes', MultipleLines='Yes', InternetService='No', OnlineSecurity='No internet service', OnlineBackup='No internet service', DeviceProtection='No internet service', TechSupport='No internet service', StreamingTV='No internet service', StreamingMovies='No internet service', Contract='Two year', PaperlessBilling='No', PaymentMethod='Bank transfer (automatic)', MonthlyCharges=26.1, TotalCharges='980.35', Churn='No'),\n",
              " Row(customerID='0380-NEAVX', gender='Male', SeniorCitizen=1, Partner='No', Dependents='No', tenure=34, PhoneService='Yes', MultipleLines='No', InternetService='Fiber optic', OnlineSecurity='No', OnlineBackup='Yes', DeviceProtection='Yes', TechSupport='No', StreamingTV='Yes', StreamingMovies='Yes', Contract='One year', PaperlessBilling='Yes', PaymentMethod='Electronic check', MonthlyCharges=99.85, TotalCharges='3343.15', Churn='No'),\n",
              " Row(customerID='0866-QLSIR', gender='Female', SeniorCitizen=0, Partner='No', Dependents='No', tenure=34, PhoneService='Yes', MultipleLines='Yes', InternetService='DSL', OnlineSecurity='Yes', OnlineBackup='Yes', DeviceProtection='No', TechSupport='Yes', StreamingTV='No', StreamingMovies='No', Contract='One year', PaperlessBilling='Yes', PaymentMethod='Mailed check', MonthlyCharges=64.4, TotalCharges='2088.75', Churn='Yes'),\n",
              " Row(customerID='4947-DSMXK', gender='Male', SeniorCitizen=0, Partner='Yes', Dependents='Yes', tenure=34, PhoneService='Yes', MultipleLines='Yes', InternetService='Fiber optic', OnlineSecurity='No', OnlineBackup='Yes', DeviceProtection='No', TechSupport='No', StreamingTV='Yes', StreamingMovies='Yes', Contract='Month-to-month', PaperlessBilling='Yes', PaymentMethod='Bank transfer (automatic)', MonthlyCharges=97.7, TotalCharges='3410', Churn='No'),\n",
              " Row(customerID='1776-SPBWV', gender='Female', SeniorCitizen=0, Partner='Yes', Dependents='Yes', tenure=34, PhoneService='Yes', MultipleLines='No', InternetService='No', OnlineSecurity='No internet service', OnlineBackup='No internet service', DeviceProtection='No internet service', TechSupport='No internet service', StreamingTV='No internet service', StreamingMovies='No internet service', Contract='One year', PaperlessBilling='Yes', PaymentMethod='Bank transfer (automatic)', MonthlyCharges=20.1, TotalCharges='682.1', Churn='No'),\n",
              " Row(customerID='5788-YPOEG', gender='Female', SeniorCitizen=0, Partner='Yes', Dependents='Yes', tenure=34, PhoneService='Yes', MultipleLines='No', InternetService='DSL', OnlineSecurity='Yes', OnlineBackup='Yes', DeviceProtection='Yes', TechSupport='Yes', StreamingTV='Yes', StreamingMovies='Yes', Contract='Two year', PaperlessBilling='No', PaymentMethod='Mailed check', MonthlyCharges=84.75, TotalCharges='2839.45', Churn='No'),\n",
              " Row(customerID='7758-UJWYS', gender='Male', SeniorCitizen=0, Partner='Yes', Dependents='Yes', tenure=34, PhoneService='No', MultipleLines='No phone service', InternetService='DSL', OnlineSecurity='No', OnlineBackup='No', DeviceProtection='No', TechSupport='Yes', StreamingTV='Yes', StreamingMovies='No', Contract='Two year', PaperlessBilling='Yes', PaymentMethod='Electronic check', MonthlyCharges=40.55, TotalCharges='1325.85', Churn='No'),\n",
              " Row(customerID='9508-ILZDG', gender='Female', SeniorCitizen=1, Partner='No', Dependents='No', tenure=34, PhoneService='Yes', MultipleLines='Yes', InternetService='Fiber optic', OnlineSecurity='No', OnlineBackup='Yes', DeviceProtection='No', TechSupport='Yes', StreamingTV='Yes', StreamingMovies='No', Contract='Month-to-month', PaperlessBilling='Yes', PaymentMethod='Electronic check', MonthlyCharges=96.35, TotalCharges='3190.25', Churn='No'),\n",
              " Row(customerID='9086-YJYXS', gender='Male', SeniorCitizen=0, Partner='Yes', Dependents='Yes', tenure=34, PhoneService='Yes', MultipleLines='Yes', InternetService='DSL', OnlineSecurity='No', OnlineBackup='No', DeviceProtection='Yes', TechSupport='No', StreamingTV='Yes', StreamingMovies='Yes', Contract='One year', PaperlessBilling='No', PaymentMethod='Bank transfer (automatic)', MonthlyCharges=77.2, TotalCharges='2753.8', Churn='No'),\n",
              " Row(customerID='4707-YNOQA', gender='Female', SeniorCitizen=0, Partner='Yes', Dependents='Yes', tenure=34, PhoneService='Yes', MultipleLines='Yes', InternetService='No', OnlineSecurity='No internet service', OnlineBackup='No internet service', DeviceProtection='No internet service', TechSupport='No internet service', StreamingTV='No internet service', StreamingMovies='No internet service', Contract='One year', PaperlessBilling='Yes', PaymentMethod='Credit card (automatic)', MonthlyCharges=25.6, TotalCharges='917.15', Churn='No'),\n",
              " Row(customerID='7682-AZNDK', gender='Male', SeniorCitizen=0, Partner='Yes', Dependents='Yes', tenure=34, PhoneService='Yes', MultipleLines='No', InternetService='Fiber optic', OnlineSecurity='No', OnlineBackup='Yes', DeviceProtection='Yes', TechSupport='No', StreamingTV='Yes', StreamingMovies='No', Contract='Month-to-month', PaperlessBilling='Yes', PaymentMethod='Electronic check', MonthlyCharges=89.85, TotalCharges='3091.75', Churn='No'),\n",
              " Row(customerID='5498-TXHLF', gender='Female', SeniorCitizen=0, Partner='Yes', Dependents='Yes', tenure=34, PhoneService='Yes', MultipleLines='Yes', InternetService='Fiber optic', OnlineSecurity='No', OnlineBackup='No', DeviceProtection='Yes', TechSupport='No', StreamingTV='Yes', StreamingMovies='No', Contract='Month-to-month', PaperlessBilling='No', PaymentMethod='Electronic check', MonthlyCharges=87.45, TotalCharges='2874.15', Churn='Yes'),\n",
              " Row(customerID='2874-YXVVA', gender='Female', SeniorCitizen=0, Partner='No', Dependents='No', tenure=34, PhoneService='Yes', MultipleLines='No', InternetService='Fiber optic', OnlineSecurity='No', OnlineBackup='Yes', DeviceProtection='Yes', TechSupport='Yes', StreamingTV='Yes', StreamingMovies='Yes', Contract='Month-to-month', PaperlessBilling='Yes', PaymentMethod='Electronic check', MonthlyCharges=105.1, TotalCharges='3634.8', Churn='No'),\n",
              " Row(customerID='4086-ATNFV', gender='Female', SeniorCitizen=0, Partner='Yes', Dependents='Yes', tenure=34, PhoneService='Yes', MultipleLines='No', InternetService='DSL', OnlineSecurity='Yes', OnlineBackup='Yes', DeviceProtection='Yes', TechSupport='No', StreamingTV='No', StreamingMovies='No', Contract='One year', PaperlessBilling='Yes', PaymentMethod='Mailed check', MonthlyCharges=60.8, TotalCharges='2042.05', Churn='No'),\n",
              " Row(customerID='5913-INRQV', gender='Male', SeniorCitizen=1, Partner='Yes', Dependents='No', tenure=34, PhoneService='Yes', MultipleLines='No', InternetService='Fiber optic', OnlineSecurity='Yes', OnlineBackup='No', DeviceProtection='No', TechSupport='Yes', StreamingTV='Yes', StreamingMovies='No', Contract='One year', PaperlessBilling='No', PaymentMethod='Mailed check', MonthlyCharges=90.15, TotalCharges='3128.8', Churn='No'),\n",
              " Row(customerID='8148-BPLZQ', gender='Male', SeniorCitizen=0, Partner='No', Dependents='No', tenure=34, PhoneService='Yes', MultipleLines='No', InternetService='DSL', OnlineSecurity='No', OnlineBackup='Yes', DeviceProtection='No', TechSupport='No', StreamingTV='No', StreamingMovies='No', Contract='Month-to-month', PaperlessBilling='Yes', PaymentMethod='Electronic check', MonthlyCharges=49.8, TotalCharges='1734.2', Churn='No'),\n",
              " Row(customerID='4803-LBYPN', gender='Male', SeniorCitizen=0, Partner='Yes', Dependents='Yes', tenure=34, PhoneService='Yes', MultipleLines='No', InternetService='No', OnlineSecurity='No internet service', OnlineBackup='No internet service', DeviceProtection='No internet service', TechSupport='No internet service', StreamingTV='No internet service', StreamingMovies='No internet service', Contract='Month-to-month', PaperlessBilling='No', PaymentMethod='Mailed check', MonthlyCharges=20.8, TotalCharges='635.9', Churn='No'),\n",
              " Row(customerID='9522-BNTHX', gender='Female', SeniorCitizen=1, Partner='No', Dependents='No', tenure=34, PhoneService='No', MultipleLines='No phone service', InternetService='DSL', OnlineSecurity='No', OnlineBackup='Yes', DeviceProtection='Yes', TechSupport='No', StreamingTV='Yes', StreamingMovies='Yes', Contract='Month-to-month', PaperlessBilling='Yes', PaymentMethod='Electronic check', MonthlyCharges=56.25, TotalCharges='1765.95', Churn='No'),\n",
              " Row(customerID='8910-LEDAG', gender='Male', SeniorCitizen=1, Partner='Yes', Dependents='No', tenure=34, PhoneService='Yes', MultipleLines='No', InternetService='Fiber optic', OnlineSecurity='No', OnlineBackup='No', DeviceProtection='No', TechSupport='No', StreamingTV='No', StreamingMovies='No', Contract='Month-to-month', PaperlessBilling='No', PaymentMethod='Credit card (automatic)', MonthlyCharges=71.55, TotalCharges='2427.35', Churn='No'),\n",
              " Row(customerID='3192-LNKRK', gender='Male', SeniorCitizen=0, Partner='Yes', Dependents='Yes', tenure=34, PhoneService='Yes', MultipleLines='No', InternetService='Fiber optic', OnlineSecurity='No', OnlineBackup='No', DeviceProtection='Yes', TechSupport='No', StreamingTV='Yes', StreamingMovies='No', Contract='Month-to-month', PaperlessBilling='Yes', PaymentMethod='Mailed check', MonthlyCharges=84.05, TotalCharges='2909.95', Churn='No'),\n",
              " Row(customerID='4636-JGAAI', gender='Male', SeniorCitizen=0, Partner='Yes', Dependents='No', tenure=34, PhoneService='Yes', MultipleLines='Yes', InternetService='Fiber optic', OnlineSecurity='No', OnlineBackup='Yes', DeviceProtection='No', TechSupport='No', StreamingTV='No', StreamingMovies='Yes', Contract='Month-to-month', PaperlessBilling='No', PaymentMethod='Mailed check', MonthlyCharges=88.85, TotalCharges='3000.25', Churn='No'),\n",
              " Row(customerID='2697-NQBPF', gender='Male', SeniorCitizen=0, Partner='No', Dependents='No', tenure=34, PhoneService='Yes', MultipleLines='Yes', InternetService='Fiber optic', OnlineSecurity='No', OnlineBackup='Yes', DeviceProtection='No', TechSupport='Yes', StreamingTV='Yes', StreamingMovies='Yes', Contract='Month-to-month', PaperlessBilling='Yes', PaymentMethod='Electronic check', MonthlyCharges=105.35, TotalCharges='3540.65', Churn='No'),\n",
              " Row(customerID='6116-RFVHN', gender='Female', SeniorCitizen=0, Partner='Yes', Dependents='No', tenure=34, PhoneService='Yes', MultipleLines='Yes', InternetService='Fiber optic', OnlineSecurity='No', OnlineBackup='No', DeviceProtection='Yes', TechSupport='No', StreamingTV='Yes', StreamingMovies='Yes', Contract='Month-to-month', PaperlessBilling='Yes', PaymentMethod='Electronic check', MonthlyCharges=100.45, TotalCharges='3414.65', Churn='No'),\n",
              " Row(customerID='7594-LZNWR', gender='Male', SeniorCitizen=1, Partner='No', Dependents='No', tenure=34, PhoneService='Yes', MultipleLines='No', InternetService='Fiber optic', OnlineSecurity='No', OnlineBackup='No', DeviceProtection='No', TechSupport='No', StreamingTV='No', StreamingMovies='No', Contract='Month-to-month', PaperlessBilling='No', PaymentMethod='Credit card (automatic)', MonthlyCharges=69.15, TotalCharges='2275.1', Churn='No'),\n",
              " Row(customerID='9695-IDRZR', gender='Female', SeniorCitizen=0, Partner='No', Dependents='Yes', tenure=34, PhoneService='Yes', MultipleLines='Yes', InternetService='Fiber optic', OnlineSecurity='Yes', OnlineBackup='Yes', DeviceProtection='Yes', TechSupport='Yes', StreamingTV='Yes', StreamingMovies='Yes', Contract='Two year', PaperlessBilling='Yes', PaymentMethod='Credit card (automatic)', MonthlyCharges=116.15, TotalCharges='3946.9', Churn='No'),\n",
              " Row(customerID='0899-LIIBW', gender='Male', SeniorCitizen=0, Partner='Yes', Dependents='No', tenure=34, PhoneService='Yes', MultipleLines='Yes', InternetService='Fiber optic', OnlineSecurity='No', OnlineBackup='No', DeviceProtection='Yes', TechSupport='No', StreamingTV='Yes', StreamingMovies='Yes', Contract='Month-to-month', PaperlessBilling='No', PaymentMethod='Electronic check', MonthlyCharges=100.85, TotalCharges='3527.3', Churn='No'),\n",
              " Row(customerID='0708-SJDIS', gender='Female', SeniorCitizen=0, Partner='No', Dependents='No', tenure=34, PhoneService='Yes', MultipleLines='Yes', InternetService='DSL', OnlineSecurity='No', OnlineBackup='No', DeviceProtection='No', TechSupport='Yes', StreamingTV='Yes', StreamingMovies='No', Contract='Month-to-month', PaperlessBilling='No', PaymentMethod='Mailed check', MonthlyCharges=65.0, TotalCharges='2157.5', Churn='No'),\n",
              " Row(customerID='8988-ECPJR', gender='Female', SeniorCitizen=1, Partner='Yes', Dependents='Yes', tenure=34, PhoneService='Yes', MultipleLines='Yes', InternetService='Fiber optic', OnlineSecurity='No', OnlineBackup='Yes', DeviceProtection='No', TechSupport='No', StreamingTV='No', StreamingMovies='No', Contract='Month-to-month', PaperlessBilling='Yes', PaymentMethod='Mailed check', MonthlyCharges=79.6, TotalCharges='2718.3', Churn='Yes'),\n",
              " Row(customerID='9860-LISIZ', gender='Female', SeniorCitizen=0, Partner='No', Dependents='No', tenure=34, PhoneService='Yes', MultipleLines='No', InternetService='No', OnlineSecurity='No internet service', OnlineBackup='No internet service', DeviceProtection='No internet service', TechSupport='No internet service', StreamingTV='No internet service', StreamingMovies='No internet service', Contract='Month-to-month', PaperlessBilling='No', PaymentMethod='Mailed check', MonthlyCharges=20.35, TotalCharges='673.2', Churn='No'),\n",
              " Row(customerID='4097-YODCF', gender='Male', SeniorCitizen=0, Partner='No', Dependents='Yes', tenure=34, PhoneService='Yes', MultipleLines='Yes', InternetService='Fiber optic', OnlineSecurity='Yes', OnlineBackup='Yes', DeviceProtection='No', TechSupport='No', StreamingTV='Yes', StreamingMovies='Yes', Contract='One year', PaperlessBilling='Yes', PaymentMethod='Electronic check', MonthlyCharges=103.8, TotalCharges='3470.8', Churn='No'),\n",
              " Row(customerID='6551-VLJMV', gender='Male', SeniorCitizen=0, Partner='Yes', Dependents='No', tenure=34, PhoneService='Yes', MultipleLines='No', InternetService='No', OnlineSecurity='No internet service', OnlineBackup='No internet service', DeviceProtection='No internet service', TechSupport='No internet service', StreamingTV='No internet service', StreamingMovies='No internet service', Contract='Two year', PaperlessBilling='No', PaymentMethod='Credit card (automatic)', MonthlyCharges=20.05, TotalCharges='679', Churn='No'),\n",
              " Row(customerID='6345-HOVES', gender='Male', SeniorCitizen=0, Partner='No', Dependents='No', tenure=34, PhoneService='No', MultipleLines='No phone service', InternetService='DSL', OnlineSecurity='No', OnlineBackup='No', DeviceProtection='No', TechSupport='No', StreamingTV='No', StreamingMovies='No', Contract='Month-to-month', PaperlessBilling='Yes', PaymentMethod='Bank transfer (automatic)', MonthlyCharges=25.05, TotalCharges='852.7', Churn='No'),\n",
              " Row(customerID='2522-WLNSF', gender='Female', SeniorCitizen=1, Partner='Yes', Dependents='No', tenure=34, PhoneService='Yes', MultipleLines='No', InternetService='DSL', OnlineSecurity='No', OnlineBackup='No', DeviceProtection='Yes', TechSupport='Yes', StreamingTV='Yes', StreamingMovies='No', Contract='One year', PaperlessBilling='No', PaymentMethod='Bank transfer (automatic)', MonthlyCharges=64.2, TotalCharges='2106.3', Churn='No'),\n",
              " Row(customerID='8695-ARGXZ', gender='Male', SeniorCitizen=1, Partner='Yes', Dependents='No', tenure=34, PhoneService='Yes', MultipleLines='Yes', InternetService='Fiber optic', OnlineSecurity='No', OnlineBackup='No', DeviceProtection='No', TechSupport='No', StreamingTV='No', StreamingMovies='No', Contract='Month-to-month', PaperlessBilling='Yes', PaymentMethod='Electronic check', MonthlyCharges=75.55, TotalCharges='2425.4', Churn='No'),\n",
              " Row(customerID='3161-GETRM', gender='Male', SeniorCitizen=0, Partner='Yes', Dependents='Yes', tenure=34, PhoneService='Yes', MultipleLines='Yes', InternetService='Fiber optic', OnlineSecurity='No', OnlineBackup='No', DeviceProtection='Yes', TechSupport='No', StreamingTV='No', StreamingMovies='Yes', Contract='Month-to-month', PaperlessBilling='Yes', PaymentMethod='Credit card (automatic)', MonthlyCharges=90.05, TotalCharges='3097', Churn='No'),\n",
              " Row(customerID='3229-USWAR', gender='Female', SeniorCitizen=0, Partner='No', Dependents='No', tenure=34, PhoneService='Yes', MultipleLines='No', InternetService='DSL', OnlineSecurity='Yes', OnlineBackup='No', DeviceProtection='Yes', TechSupport='Yes', StreamingTV='Yes', StreamingMovies='Yes', Contract='One year', PaperlessBilling='Yes', PaymentMethod='Bank transfer (automatic)', MonthlyCharges=79.95, TotalCharges='2727.3', Churn='No'),\n",
              " Row(customerID='9971-ZWPBF', gender='Male', SeniorCitizen=1, Partner='Yes', Dependents='Yes', tenure=34, PhoneService='Yes', MultipleLines='Yes', InternetService='Fiber optic', OnlineSecurity='No', OnlineBackup='Yes', DeviceProtection='Yes', TechSupport='Yes', StreamingTV='Yes', StreamingMovies='Yes', Contract='Month-to-month', PaperlessBilling='Yes', PaymentMethod='Electronic check', MonthlyCharges=108.9, TotalCharges='3625.2', Churn='No'),\n",
              " Row(customerID='0020-JDNXP', gender='Female', SeniorCitizen=0, Partner='Yes', Dependents='Yes', tenure=34, PhoneService='No', MultipleLines='No phone service', InternetService='DSL', OnlineSecurity='Yes', OnlineBackup='No', DeviceProtection='Yes', TechSupport='Yes', StreamingTV='Yes', StreamingMovies='Yes', Contract='One year', PaperlessBilling='No', PaymentMethod='Mailed check', MonthlyCharges=61.25, TotalCharges='1993.2', Churn='No'),\n",
              " Row(customerID='5203-XEHAX', gender='Female', SeniorCitizen=0, Partner='No', Dependents='No', tenure=34, PhoneService='Yes', MultipleLines='No', InternetService='DSL', OnlineSecurity='Yes', OnlineBackup='Yes', DeviceProtection='No', TechSupport='No', StreamingTV='No', StreamingMovies='Yes', Contract='One year', PaperlessBilling='No', PaymentMethod='Electronic check', MonthlyCharges=64.35, TotalCharges='2053.05', Churn='No'),\n",
              " Row(customerID='2188-SXWVT', gender='Female', SeniorCitizen=0, Partner='No', Dependents='No', tenure=34, PhoneService='Yes', MultipleLines='No', InternetService='DSL', OnlineSecurity='Yes', OnlineBackup='Yes', DeviceProtection='No', TechSupport='No', StreamingTV='No', StreamingMovies='No', Contract='One year', PaperlessBilling='No', PaymentMethod='Mailed check', MonthlyCharges=55.0, TotalCharges='1885.15', Churn='No'),\n",
              " Row(customerID='9259-PACGQ', gender='Female', SeniorCitizen=0, Partner='Yes', Dependents='No', tenure=34, PhoneService='Yes', MultipleLines='Yes', InternetService='DSL', OnlineSecurity='Yes', OnlineBackup='Yes', DeviceProtection='No', TechSupport='Yes', StreamingTV='No', StreamingMovies='No', Contract='Month-to-month', PaperlessBilling='No', PaymentMethod='Electronic check', MonthlyCharges=62.65, TotalCharges='2274.9', Churn='Yes'),\n",
              " Row(customerID='2133-TSRRM', gender='Female', SeniorCitizen=0, Partner='No', Dependents='Yes', tenure=34, PhoneService='Yes', MultipleLines='No', InternetService='Fiber optic', OnlineSecurity='Yes', OnlineBackup='Yes', DeviceProtection='Yes', TechSupport='No', StreamingTV='Yes', StreamingMovies='Yes', Contract='Month-to-month', PaperlessBilling='Yes', PaymentMethod='Bank transfer (automatic)', MonthlyCharges=105.35, TotalCharges='3688.6', Churn='No'),\n",
              " Row(customerID='0666-UXTJO', gender='Male', SeniorCitizen=1, Partner='Yes', Dependents='No', tenure=34, PhoneService='Yes', MultipleLines='No', InternetService='Fiber optic', OnlineSecurity='No', OnlineBackup='No', DeviceProtection='Yes', TechSupport='No', StreamingTV='Yes', StreamingMovies='No', Contract='Month-to-month', PaperlessBilling='Yes', PaymentMethod='Credit card (automatic)', MonthlyCharges=85.2, TotalCharges='2874.45', Churn='No')]"
            ]
          },
          "metadata": {
            "tags": []
          },
          "execution_count": 65
        }
      ]
    },
    {
      "cell_type": "markdown",
      "metadata": {
        "id": "gx3mUy8DELBT"
      },
      "source": [
        "**Performing Transformations on the data**"
      ]
    },
    {
      "cell_type": "markdown",
      "metadata": {
        "id": "BVvt0iC4HIl0"
      },
      "source": [
        "**Operation 1: Grouping the data**"
      ]
    },
    {
      "cell_type": "code",
      "metadata": {
        "colab": {
          "base_uri": "https://localhost:8080/"
        },
        "id": "TjGDHaFkHLq9",
        "outputId": "fd97c40b-d1fe-46ca-ab67-4d582af1af3b"
      },
      "source": [
        "op1 = data.groupBy('gender').count()\r\n",
        "op1.show()"
      ],
      "execution_count": 68,
      "outputs": [
        {
          "output_type": "stream",
          "text": [
            "+------+-----+\n",
            "|gender|count|\n",
            "+------+-----+\n",
            "|Female| 3488|\n",
            "|  Male| 3555|\n",
            "+------+-----+\n",
            "\n"
          ],
          "name": "stdout"
        }
      ]
    },
    {
      "cell_type": "markdown",
      "metadata": {
        "id": "rojyLbu9HwV8"
      },
      "source": [
        "Operation 2:"
      ]
    },
    {
      "cell_type": "code",
      "metadata": {
        "colab": {
          "base_uri": "https://localhost:8080/"
        },
        "id": "C1lR8HXZHzNo",
        "outputId": "bba9903b-b5b3-4ff6-af3b-35dfdbb10fdc"
      },
      "source": [
        "op2 = data.orderBy('InternetService').take(2)\r\n",
        "op2"
      ],
      "execution_count": 70,
      "outputs": [
        {
          "output_type": "execute_result",
          "data": {
            "text/plain": [
              "[Row(customerID='7590-VHVEG', gender='Female', SeniorCitizen=0, Partner='Yes', Dependents='No', tenure=1, PhoneService='No', MultipleLines='No phone service', InternetService='DSL', OnlineSecurity='No', OnlineBackup='Yes', DeviceProtection='No', TechSupport='No', StreamingTV='No', StreamingMovies='No', Contract='Month-to-month', PaperlessBilling='Yes', PaymentMethod='Electronic check', MonthlyCharges=29.85, TotalCharges='29.85', Churn='No'),\n",
              " Row(customerID='5575-GNVDE', gender='Male', SeniorCitizen=0, Partner='No', Dependents='No', tenure=34, PhoneService='Yes', MultipleLines='No', InternetService='DSL', OnlineSecurity='Yes', OnlineBackup='No', DeviceProtection='Yes', TechSupport='No', StreamingTV='No', StreamingMovies='No', Contract='One year', PaperlessBilling='No', PaymentMethod='Mailed check', MonthlyCharges=56.95, TotalCharges='1889.5', Churn='No')]"
            ]
          },
          "metadata": {
            "tags": []
          },
          "execution_count": 70
        }
      ]
    },
    {
      "cell_type": "markdown",
      "metadata": {
        "id": "zm76_zq3IzJx"
      },
      "source": [
        "Operation 3:"
      ]
    },
    {
      "cell_type": "code",
      "metadata": {
        "id": "wjS1_RvjI2Kl"
      },
      "source": [
        ""
      ],
      "execution_count": null,
      "outputs": []
    }
  ]
}